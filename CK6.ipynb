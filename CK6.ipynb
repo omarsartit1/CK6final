{
 "cells": [
  {
   "cell_type": "code",
   "execution_count": 1,
   "id": "adda3f3f-b411-4489-bea1-dcae15a656b2",
   "metadata": {},
   "outputs": [
    {
     "name": "stdin",
     "output_type": "stream",
     "text": [
      "Enter the number of students:  1\n",
      "Enter the number of subjects:  2\n",
      "Enter mark for student 1 in subject 1:  70\n",
      "Enter mark for student 1 in subject 2:  90\n"
     ]
    },
    {
     "name": "stdout",
     "output_type": "stream",
     "text": [
      "Student\tTotal Marks\tPercentage\tGrade\n",
      "Student 1\t160.0\t80.0%\tA\n"
     ]
    }
   ],
   "source": [
    "import numpy as np\n",
    "\n",
    "# Ask the user to enter the number of students and subjects\n",
    "\n",
    "num_students = int(input(\"Enter the number of students: \"))\n",
    "num_subjects = int(input(\"Enter the number of subjects: \"))\n",
    "\n",
    "# Create array to store the marks of each student in each subject\n",
    "\n",
    "marks = np.zeros((num_students, num_subjects))\n",
    "\n",
    "# Ask the user to enter the marks of each student in each subject\n",
    "\n",
    "for i in range(num_students):\n",
    "    for j in range(num_subjects):\n",
    "        marks[i, j] = float(input(f\"Enter mark for student {i+1} in subject {j+1}: \"))\n",
    "\n",
    "# Calculate the total marks for each student\n",
    "\n",
    "total_marks = np.sum(marks, axis=1) # axis=1 indique que la somme (sum) se fera par colonne\n",
    "\n",
    "# Calculate the percentage for each student\n",
    "\n",
    "percentage = (total_marks / (num_subjects*100)) * 100\n",
    "\n",
    "# Calculate the grade for each student\n",
    "grades = []\n",
    "for percent in percentage:\n",
    "    if percent >= 90:\n",
    "        grade = \"A+\"\n",
    "    elif percent >= 80:\n",
    "        grade = \"A\"\n",
    "    elif percent >= 70:\n",
    "        grade = \"B+\"\n",
    "    elif percent >= 60:\n",
    "        grade = \"B\"\n",
    "    elif percent >= 50:\n",
    "        grade = \"C\"\n",
    "    else:\n",
    "        grade = \"F\"\n",
    "    grades.append(grade)\n",
    "\n",
    "# Display the result for each student in a tabular format\n",
    "\n",
    "print(\"Student\\tTotal Marks\\tPercentage\\tGrade\")\n",
    "\n",
    "for i in range(num_students):\n",
    "   print(\"Student \" + str(i+1) + \"\\t\" + str(round(total_marks[i], 2)) + \"\\t\" + str(round(percentage[i], 2)) + \"%\" + \"\\t\" + grades[i])"
   ]
  },
  {
   "cell_type": "code",
   "execution_count": null,
   "id": "8b790806-5509-4a72-a09c-7e30657fa911",
   "metadata": {},
   "outputs": [],
   "source": []
  }
 ],
 "metadata": {
  "kernelspec": {
   "display_name": "Python 3 (ipykernel)",
   "language": "python",
   "name": "python3"
  },
  "language_info": {
   "codemirror_mode": {
    "name": "ipython",
    "version": 3
   },
   "file_extension": ".py",
   "mimetype": "text/x-python",
   "name": "python",
   "nbconvert_exporter": "python",
   "pygments_lexer": "ipython3",
   "version": "3.11.7"
  }
 },
 "nbformat": 4,
 "nbformat_minor": 5
}
